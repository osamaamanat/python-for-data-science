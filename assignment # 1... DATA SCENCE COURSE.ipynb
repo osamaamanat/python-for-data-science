{
 "cells": [
  {
   "cell_type": "code",
   "execution_count": 2,
   "metadata": {},
   "outputs": [],
   "source": [
    "#Data Science Course\n",
    "#Assignment # 1"
   ]
  },
  {
   "cell_type": "code",
   "execution_count": 1,
   "metadata": {},
   "outputs": [
    {
     "name": "stdout",
     "output_type": "stream",
     "text": [
      "\n",
      "Twinkel, twinkle, little star,\n",
      "    How I wonder what you are!\n",
      "        Up above the world so high\n",
      "        Like a diamond in the sky.\n",
      "Twinkel, twinkle, little star,\n",
      "    How I wonder what you are!\n",
      "\n"
     ]
    }
   ],
   "source": [
    "#1\n",
    "\n",
    "print ('''\n",
    "Twinkel, twinkle, little star,\n",
    "    How I wonder what you are!\n",
    "        Up above the world so high\n",
    "        Like a diamond in the sky.\n",
    "Twinkel, twinkle, little star,\n",
    "    How I wonder what you are!\n",
    "''');"
   ]
  },
  {
   "cell_type": "code",
   "execution_count": 8,
   "metadata": {},
   "outputs": [
    {
     "name": "stdout",
     "output_type": "stream",
     "text": [
      "3.8.5 (default, Sep  3 2020, 21:29:08) [MSC v.1916 64 bit (AMD64)]\n"
     ]
    }
   ],
   "source": [
    "#2\n",
    "\n",
    "import sys\n",
    "print (sys.version)"
   ]
  },
  {
   "cell_type": "code",
   "execution_count": 10,
   "metadata": {},
   "outputs": [
    {
     "name": "stdout",
     "output_type": "stream",
     "text": [
      "Thu Dec 30 10:20:23 2021\n"
     ]
    }
   ],
   "source": [
    "#3\n",
    "\n",
    "import time\n",
    "print (time.asctime())"
   ]
  },
  {
   "cell_type": "code",
   "execution_count": 12,
   "metadata": {},
   "outputs": [
    {
     "name": "stdout",
     "output_type": "stream",
     "text": [
      "2021-12-30 10:23:23.763704\n"
     ]
    }
   ],
   "source": [
    "import datetime\n",
    "print(datetime.datetime.now())"
   ]
  },
  {
   "cell_type": "code",
   "execution_count": 17,
   "metadata": {},
   "outputs": [
    {
     "name": "stdout",
     "output_type": "stream",
     "text": [
      "Enter Radius of Circle in Meter 44\n",
      "\n",
      "The area of circle in meter square is:\n",
      "6082.12337734984\n"
     ]
    }
   ],
   "source": [
    "#4\n",
    "\n",
    "import math\n",
    "math.pi\n",
    "\n",
    "radius = int(input(\"Enter Radius of Circle in Meter \"))\n",
    "\n",
    "area = math.pi *  radius ** 2\n",
    "\n",
    "print(\"\")\n",
    "print(\"The area of circle in meter square is:\")\n",
    "print(area)"
   ]
  },
  {
   "cell_type": "code",
   "execution_count": 25,
   "metadata": {},
   "outputs": [
    {
     "name": "stdout",
     "output_type": "stream",
     "text": [
      "osama\n",
      "amanat\n",
      "amanat osama\n"
     ]
    }
   ],
   "source": [
    "#5\n",
    "\n",
    "first_name = str(input(\"\"))\n",
    "last_name = str(input(\"\"))\n",
    "\n",
    "full_name_in_reverse = last_name + \" \" + first_name\n",
    "\n",
    "print(full_name_in_reverse)"
   ]
  },
  {
   "cell_type": "code",
   "execution_count": 29,
   "metadata": {},
   "outputs": [
    {
     "name": "stdout",
     "output_type": "stream",
     "text": [
      "3\n",
      "3\n",
      "Total is 6\n"
     ]
    }
   ],
   "source": [
    "#6\n",
    "\n",
    "input_1 = int(input(\"\"))\n",
    "input_2 = int(input(\"\"))\n",
    "\n",
    "total = input_1 + input_2\n",
    "\n",
    "print(\"Total is %s\" %total)"
   ]
  },
  {
   "cell_type": "code",
   "execution_count": null,
   "metadata": {},
   "outputs": [],
   "source": []
  }
 ],
 "metadata": {
  "kernelspec": {
   "display_name": "Python 3",
   "language": "python",
   "name": "python3"
  },
  "language_info": {
   "codemirror_mode": {
    "name": "ipython",
    "version": 3
   },
   "file_extension": ".py",
   "mimetype": "text/x-python",
   "name": "python",
   "nbconvert_exporter": "python",
   "pygments_lexer": "ipython3",
   "version": "3.8.5"
  }
 },
 "nbformat": 4,
 "nbformat_minor": 4
}
